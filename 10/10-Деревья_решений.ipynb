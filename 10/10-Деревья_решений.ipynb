{
 "cells": [
  {
   "cell_type": "code",
   "execution_count": 12,
   "id": "initial_id",
   "metadata": {
    "collapsed": true,
    "ExecuteTime": {
     "end_time": "2024-01-20T08:18:04.483399Z",
     "start_time": "2024-01-20T08:18:04.292135Z"
    }
   },
   "outputs": [
    {
     "data": {
      "text/plain": "'принятие решения о кредите.gv.pdf'"
     },
     "execution_count": 12,
     "metadata": {},
     "output_type": "execute_result"
    }
   ],
   "source": [
    "import graphviz\n",
    "\n",
    "f = graphviz.Digraph('принятие решения о кредите')\n",
    "\n",
    "f.node('L0', \"Ключевая ставка больше 10%?\", formula= \"r>10\")\n",
    "f.node('L1', \"Есть ли государственное субсидирование?\")\n",
    "f.node('L4', \"Рентабельность проекта высокая\")\n",
    "\n",
    "f.edge('L0', 'L2', label='да')\n",
    "f.edge('L0', 'L1', label='нет')\n",
    "f.edge('L1', 'L3', label='да')\n",
    "f.edge('L1', 'L4', label='нет')\n",
    "\n",
    "\n",
    "f.view()"
   ]
  },
  {
   "cell_type": "code",
   "execution_count": 13,
   "outputs": [],
   "source": [
    "import json\n",
    "\n",
    "decision_tree = json.loads(f.pipe('json').decode())"
   ],
   "metadata": {
    "collapsed": false,
    "ExecuteTime": {
     "end_time": "2024-01-20T08:18:08.214905Z",
     "start_time": "2024-01-20T08:18:08.043418Z"
    }
   },
   "id": "31af4237dc4b31b2"
  },
  {
   "cell_type": "code",
   "execution_count": 14,
   "outputs": [
    {
     "data": {
      "text/plain": "{'name': 'принятие решения о кредите',\n 'directed': True,\n 'strict': False,\n '_draw_': [{'op': 'c', 'grad': 'none', 'color': '#fffffe00'},\n  {'op': 'C', 'grad': 'none', 'color': '#ffffff'},\n  {'op': 'P',\n   'points': [[0.0, 0.0], [0.0, 213.0], [492.5, 213.0], [492.5, 0.0]]}],\n 'bb': '0,0,492.5,213',\n 'xdotversion': '1.7',\n '_subgraph_cnt': 0,\n 'objects': [{'_gvid': 0,\n   'name': 'L0',\n   '_draw_': [{'op': 'c', 'grad': 'none', 'color': '#000000'},\n    {'op': 'e', 'rect': [352.5, 195.0, 135.29, 18.0]}],\n   '_ldraw_': [{'op': 'F', 'size': 14.0, 'face': 'Times-Roman'},\n    {'op': 'c', 'grad': 'none', 'color': '#000000'},\n    {'op': 'T',\n     'pt': [352.5, 189.95],\n     'align': 'c',\n     'width': 182.25,\n     'text': 'Ключевая ставка больше 10%?'}],\n   'formula': 'r>10',\n   'height': '0.5',\n   'label': 'Ключевая ставка больше 10%?',\n   'pos': '352.5,195',\n   'width': '3.758'},\n  {'_gvid': 1,\n   'name': 'L1',\n   '_draw_': [{'op': 'c', 'grad': 'none', 'color': '#000000'},\n    {'op': 'e', 'rect': [239.5, 106.5, 181.35, 18.0]}],\n   '_ldraw_': [{'op': 'F', 'size': 14.0, 'face': 'Times-Roman'},\n    {'op': 'c', 'grad': 'none', 'color': '#000000'},\n    {'op': 'T',\n     'pt': [239.5, 101.45],\n     'align': 'c',\n     'width': 249.75,\n     'text': 'Есть ли государственное субсидирование?'}],\n   'height': '0.5',\n   'label': 'Есть ли государственное субсидирование?',\n   'pos': '239.5,106.5',\n   'width': '5.0375'},\n  {'_gvid': 2,\n   'name': 'L4',\n   '_draw_': [{'op': 'c', 'grad': 'none', 'color': '#000000'},\n    {'op': 'e', 'rect': [144.5, 18.0, 144.5, 18.0]}],\n   '_ldraw_': [{'op': 'F', 'size': 14.0, 'face': 'Times-Roman'},\n    {'op': 'c', 'grad': 'none', 'color': '#000000'},\n    {'op': 'T',\n     'pt': [144.5, 12.95],\n     'align': 'c',\n     'width': 195.75,\n     'text': 'Рентабельность проекта высокая'}],\n   'height': '0.5',\n   'label': 'Рентабельность проекта высокая',\n   'pos': '144.5,18',\n   'width': '4.0139'},\n  {'_gvid': 3,\n   'name': 'L2',\n   '_draw_': [{'op': 'c', 'grad': 'none', 'color': '#000000'},\n    {'op': 'e', 'rect': [465.5, 106.5, 27.0, 18.0]}],\n   '_ldraw_': [{'op': 'F', 'size': 14.0, 'face': 'Times-Roman'},\n    {'op': 'c', 'grad': 'none', 'color': '#000000'},\n    {'op': 'T',\n     'pt': [465.5, 101.45],\n     'align': 'c',\n     'width': 15.0,\n     'text': 'L2'}],\n   'height': '0.5',\n   'label': '\\\\N',\n   'pos': '465.5,106.5',\n   'width': '0.75'},\n  {'_gvid': 4,\n   'name': 'L3',\n   '_draw_': [{'op': 'c', 'grad': 'none', 'color': '#000000'},\n    {'op': 'e', 'rect': [334.5, 18.0, 27.0, 18.0]}],\n   '_ldraw_': [{'op': 'F', 'size': 14.0, 'face': 'Times-Roman'},\n    {'op': 'c', 'grad': 'none', 'color': '#000000'},\n    {'op': 'T',\n     'pt': [334.5, 12.95],\n     'align': 'c',\n     'width': 15.0,\n     'text': 'L3'}],\n   'height': '0.5',\n   'label': '\\\\N',\n   'pos': '334.5,18',\n   'width': '0.75'}],\n 'edges': [{'_gvid': 1,\n   'tail': 0,\n   'head': 3,\n   '_draw_': [{'op': 'c', 'grad': 'none', 'color': '#000000'},\n    {'op': 'b',\n     'points': [[374.83, 176.91],\n      [393.4, 162.69],\n      [419.86, 142.44],\n      [439.41, 127.47]]}],\n   '_hdraw_': [{'op': 'S', 'style': 'solid'},\n    {'op': 'c', 'grad': 'none', 'color': '#000000'},\n    {'op': 'C', 'grad': 'none', 'color': '#000000'},\n    {'op': 'P',\n     'points': [[441.37, 130.38], [447.18, 121.52], [437.11, 124.82]]}],\n   '_ldraw_': [{'op': 'F', 'size': 14.0, 'face': 'Times-Roman'},\n    {'op': 'c', 'grad': 'none', 'color': '#000000'},\n    {'op': 'T',\n     'pt': [425.88, 145.7],\n     'align': 'c',\n     'width': 12.75,\n     'text': 'да'}],\n   'label': 'да',\n   'lp': '425.88,150.75',\n   'pos': 'e,448.38,120.6 374.83,176.91 393.4,162.69 419.86,142.44 439.41,127.47'},\n  {'_gvid': 0,\n   'tail': 0,\n   'head': 1,\n   '_draw_': [{'op': 'c', 'grad': 'none', 'color': '#000000'},\n    {'op': 'b',\n     'points': [[330.18, 176.91],\n      [313.34, 164.02],\n      [290.02, 146.17],\n      [271.24, 131.8]]}],\n   '_hdraw_': [{'op': 'S', 'style': 'solid'},\n    {'op': 'c', 'grad': 'none', 'color': '#000000'},\n    {'op': 'C', 'grad': 'none', 'color': '#000000'},\n    {'op': 'P',\n     'points': [[273.44, 129.07], [263.37, 125.77], [269.18, 134.63]]}],\n   '_ldraw_': [{'op': 'F', 'size': 14.0, 'face': 'Times-Roman'},\n    {'op': 'c', 'grad': 'none', 'color': '#000000'},\n    {'op': 'T',\n     'pt': [316.25, 145.7],\n     'align': 'c',\n     'width': 19.5,\n     'text': 'нет'}],\n   'label': 'нет',\n   'lp': '316.25,150.75',\n   'pos': 'e,262.17,124.85 330.18,176.91 313.34,164.02 290.02,146.17 271.24,131.8'},\n  {'_gvid': 3,\n   'tail': 1,\n   'head': 4,\n   '_draw_': [{'op': 'c', 'grad': 'none', 'color': '#000000'},\n    {'op': 'b',\n     'points': [[258.27, 88.41],\n      [273.23, 74.78],\n      [294.29, 55.61],\n      [310.49, 40.86]]}],\n   '_hdraw_': [{'op': 'S', 'style': 'solid'},\n    {'op': 'c', 'grad': 'none', 'color': '#000000'},\n    {'op': 'C', 'grad': 'none', 'color': '#000000'},\n    {'op': 'P',\n     'points': [[312.76, 43.53], [317.79, 34.21], [308.04, 38.36]]}],\n   '_ldraw_': [{'op': 'F', 'size': 14.0, 'face': 'Times-Roman'},\n    {'op': 'c', 'grad': 'none', 'color': '#000000'},\n    {'op': 'T',\n     'pt': [302.88, 57.2],\n     'align': 'c',\n     'width': 12.75,\n     'text': 'да'}],\n   'label': 'да',\n   'lp': '302.88,62.25',\n   'pos': 'e,318.91,33.193 258.27,88.41 273.23,74.784 294.29,55.609 310.49,40.865'},\n  {'_gvid': 2,\n   'tail': 1,\n   'head': 2,\n   '_draw_': [{'op': 'c', 'grad': 'none', 'color': '#000000'},\n    {'op': 'b',\n     'points': [[220.73, 88.41],\n      [206.68, 75.62],\n      [187.25, 57.93],\n      [171.53, 43.61]]}],\n   '_hdraw_': [{'op': 'S', 'style': 'solid'},\n    {'op': 'c', 'grad': 'none', 'color': '#000000'},\n    {'op': 'C', 'grad': 'none', 'color': '#000000'},\n    {'op': 'P', 'points': [[174.1, 41.22], [164.35, 37.07], [169.39, 46.39]]}],\n   '_ldraw_': [{'op': 'F', 'size': 14.0, 'face': 'Times-Roman'},\n    {'op': 'c', 'grad': 'none', 'color': '#000000'},\n    {'op': 'T',\n     'pt': [211.25, 57.2],\n     'align': 'c',\n     'width': 19.5,\n     'text': 'нет'}],\n   'label': 'нет',\n   'lp': '211.25,62.25',\n   'pos': 'e,163.23,36.054 220.73,88.41 206.68,75.615 187.25,57.927 171.53,43.609'}]}"
     },
     "execution_count": 14,
     "metadata": {},
     "output_type": "execute_result"
    }
   ],
   "source": [
    "decision_tree"
   ],
   "metadata": {
    "collapsed": false,
    "ExecuteTime": {
     "end_time": "2024-01-20T08:18:10.523350Z",
     "start_time": "2024-01-20T08:18:10.517519Z"
    }
   },
   "id": "b00b3adc84222c8f"
  },
  {
   "cell_type": "code",
   "execution_count": 17,
   "outputs": [
    {
     "data": {
      "text/plain": "<function graphviz.quoting.quote_edge(identifier: str) -> str>"
     },
     "execution_count": 17,
     "metadata": {},
     "output_type": "execute_result"
    }
   ],
   "source": [],
   "metadata": {
    "collapsed": false,
    "ExecuteTime": {
     "end_time": "2024-01-20T08:22:46.142299Z",
     "start_time": "2024-01-20T08:22:46.137017Z"
    }
   },
   "id": "9923aaa38b3c04e5"
  },
  {
   "cell_type": "code",
   "execution_count": null,
   "outputs": [],
   "source": [
    "import pygraphviz as pgv"
   ],
   "metadata": {
    "collapsed": false
   },
   "id": "7ea2b03585b35c28"
  },
  {
   "cell_type": "code",
   "execution_count": 18,
   "outputs": [
    {
     "ename": "ImportError",
     "evalue": "read_dot() requires pygraphviz http://pygraphviz.github.io/",
     "output_type": "error",
     "traceback": [
      "\u001B[0;31m---------------------------------------------------------------------------\u001B[0m",
      "\u001B[0;31mModuleNotFoundError\u001B[0m                       Traceback (most recent call last)",
      "File \u001B[0;32m/Library/Python/3.9/site-packages/networkx/drawing/nx_agraph.py:218\u001B[0m, in \u001B[0;36mread_dot\u001B[0;34m(path)\u001B[0m\n\u001B[1;32m    217\u001B[0m \u001B[38;5;28;01mtry\u001B[39;00m:\n\u001B[0;32m--> 218\u001B[0m     \u001B[38;5;28;01mimport\u001B[39;00m \u001B[38;5;21;01mpygraphviz\u001B[39;00m\n\u001B[1;32m    219\u001B[0m \u001B[38;5;28;01mexcept\u001B[39;00m \u001B[38;5;167;01mImportError\u001B[39;00m \u001B[38;5;28;01mas\u001B[39;00m err:\n",
      "\u001B[0;31mModuleNotFoundError\u001B[0m: No module named 'pygraphviz'",
      "\nThe above exception was the direct cause of the following exception:\n",
      "\u001B[0;31mImportError\u001B[0m                               Traceback (most recent call last)",
      "Cell \u001B[0;32mIn[18], line 7\u001B[0m\n\u001B[1;32m      4\u001B[0m dot_file_path \u001B[38;5;241m=\u001B[39m \u001B[38;5;124m'\u001B[39m\u001B[38;5;124mпринятие решения о кредите.gv\u001B[39m\u001B[38;5;124m'\u001B[39m\n\u001B[1;32m      6\u001B[0m \u001B[38;5;66;03m# Read the graph from the DOT file\u001B[39;00m\n\u001B[0;32m----> 7\u001B[0m G \u001B[38;5;241m=\u001B[39m \u001B[43mnx\u001B[49m\u001B[38;5;241;43m.\u001B[39;49m\u001B[43mdrawing\u001B[49m\u001B[38;5;241;43m.\u001B[39;49m\u001B[43mnx_agraph\u001B[49m\u001B[38;5;241;43m.\u001B[39;49m\u001B[43mread_dot\u001B[49m\u001B[43m(\u001B[49m\u001B[43mdot_file_path\u001B[49m\u001B[43m)\u001B[49m\n",
      "File \u001B[0;32m/Library/Python/3.9/site-packages/networkx/utils/backends.py:412\u001B[0m, in \u001B[0;36m_dispatch.__call__\u001B[0;34m(self, backend, *args, **kwargs)\u001B[0m\n\u001B[1;32m    409\u001B[0m \u001B[38;5;28;01mdef\u001B[39;00m \u001B[38;5;21m__call__\u001B[39m(\u001B[38;5;28mself\u001B[39m, \u001B[38;5;241m/\u001B[39m, \u001B[38;5;241m*\u001B[39margs, backend\u001B[38;5;241m=\u001B[39m\u001B[38;5;28;01mNone\u001B[39;00m, \u001B[38;5;241m*\u001B[39m\u001B[38;5;241m*\u001B[39mkwargs):\n\u001B[1;32m    410\u001B[0m     \u001B[38;5;28;01mif\u001B[39;00m \u001B[38;5;129;01mnot\u001B[39;00m backends:\n\u001B[1;32m    411\u001B[0m         \u001B[38;5;66;03m# Fast path if no backends are installed\u001B[39;00m\n\u001B[0;32m--> 412\u001B[0m         \u001B[38;5;28;01mreturn\u001B[39;00m \u001B[38;5;28;43mself\u001B[39;49m\u001B[38;5;241;43m.\u001B[39;49m\u001B[43morig_func\u001B[49m\u001B[43m(\u001B[49m\u001B[38;5;241;43m*\u001B[39;49m\u001B[43margs\u001B[49m\u001B[43m,\u001B[49m\u001B[43m \u001B[49m\u001B[38;5;241;43m*\u001B[39;49m\u001B[38;5;241;43m*\u001B[39;49m\u001B[43mkwargs\u001B[49m\u001B[43m)\u001B[49m\n\u001B[1;32m    414\u001B[0m     \u001B[38;5;66;03m# Use `backend_name` in this function instead of `backend`\u001B[39;00m\n\u001B[1;32m    415\u001B[0m     backend_name \u001B[38;5;241m=\u001B[39m backend\n",
      "File \u001B[0;32m/Library/Python/3.9/site-packages/networkx/drawing/nx_agraph.py:220\u001B[0m, in \u001B[0;36mread_dot\u001B[0;34m(path)\u001B[0m\n\u001B[1;32m    218\u001B[0m     \u001B[38;5;28;01mimport\u001B[39;00m \u001B[38;5;21;01mpygraphviz\u001B[39;00m\n\u001B[1;32m    219\u001B[0m \u001B[38;5;28;01mexcept\u001B[39;00m \u001B[38;5;167;01mImportError\u001B[39;00m \u001B[38;5;28;01mas\u001B[39;00m err:\n\u001B[0;32m--> 220\u001B[0m     \u001B[38;5;28;01mraise\u001B[39;00m \u001B[38;5;167;01mImportError\u001B[39;00m(\n\u001B[1;32m    221\u001B[0m         \u001B[38;5;124m\"\u001B[39m\u001B[38;5;124mread_dot() requires pygraphviz \u001B[39m\u001B[38;5;124m\"\u001B[39m \u001B[38;5;124m\"\u001B[39m\u001B[38;5;124mhttp://pygraphviz.github.io/\u001B[39m\u001B[38;5;124m\"\u001B[39m\n\u001B[1;32m    222\u001B[0m     ) \u001B[38;5;28;01mfrom\u001B[39;00m \u001B[38;5;21;01merr\u001B[39;00m\n\u001B[1;32m    223\u001B[0m A \u001B[38;5;241m=\u001B[39m pygraphviz\u001B[38;5;241m.\u001B[39mAGraph(file\u001B[38;5;241m=\u001B[39mpath)\n\u001B[1;32m    224\u001B[0m gr \u001B[38;5;241m=\u001B[39m from_agraph(A)\n",
      "\u001B[0;31mImportError\u001B[0m: read_dot() requires pygraphviz http://pygraphviz.github.io/"
     ]
    }
   ],
   "source": [
    "import networkx as nx\n",
    "\n",
    "# Replace 'your_graph.dot' with the path to your DOT file\n",
    "dot_file_path = 'принятие решения о кредите.gv'\n",
    "\n",
    "# Read the graph from the DOT file\n",
    "G = nx.drawing.nx_agraph.read_dot(dot_file_path)"
   ],
   "metadata": {
    "collapsed": false,
    "ExecuteTime": {
     "end_time": "2024-01-20T08:29:29.877809Z",
     "start_time": "2024-01-20T08:29:29.534205Z"
    }
   },
   "id": "f25b6b46c05e2f95"
  },
  {
   "cell_type": "code",
   "execution_count": null,
   "outputs": [],
   "source": [],
   "metadata": {
    "collapsed": false
   },
   "id": "811fd0ea13b774a2"
  }
 ],
 "metadata": {
  "kernelspec": {
   "display_name": "Python 3",
   "language": "python",
   "name": "python3"
  },
  "language_info": {
   "codemirror_mode": {
    "name": "ipython",
    "version": 2
   },
   "file_extension": ".py",
   "mimetype": "text/x-python",
   "name": "python",
   "nbconvert_exporter": "python",
   "pygments_lexer": "ipython2",
   "version": "2.7.6"
  }
 },
 "nbformat": 4,
 "nbformat_minor": 5
}
