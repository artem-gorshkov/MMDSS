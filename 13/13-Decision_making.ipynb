{
 "cells": [
  {
   "cell_type": "markdown",
   "metadata": {},
   "source": [
    "# Критерии принятия решений в условиях неопределенности\n",
    "\n",
    "Критерий Байеса: работаем с математическим ожиданием выигрыша (проигрыша) по строке\n",
    "Критерий Лапласа: принцип недостаточного основания Лапласа, равновероятное использование стратегий оппонента\n",
    "Критерий Вальда: принцип гарантированного результата (берем минимум)\n",
    "Критерий Севиджа: работа с рисками, как разницой между лучшим вариантом и рассматриваемым при \"выборе\" оппонентом соответствующей стратегии\n",
    "Критерий Гурвица: балансируем между наилучшим и наихудшем сценариями (степень риска - насколько готов рискнуть ЛПР*)"
   ]
  },
  {
   "cell_type": "code",
   "execution_count": 1,
   "metadata": {
    "ExecuteTime": {
     "end_time": "2024-01-19T07:21:04.779347Z",
     "start_time": "2024-01-19T07:21:04.402490Z"
    }
   },
   "outputs": [],
   "source": [
    "import numpy as np\n",
    "import pandas as pd"
   ]
  },
  {
   "cell_type": "code",
   "execution_count": 2,
   "metadata": {
    "ExecuteTime": {
     "end_time": "2024-01-19T07:21:04.783519Z",
     "start_time": "2024-01-19T07:21:04.781006Z"
    }
   },
   "outputs": [],
   "source": [
    "x = np.array([[2.3, 6.7, 3.9, 7.2, 8.5],\n",
    "              [8.1, 5.2, 2.6, 6.3, 9.7],\n",
    "              [3.5, 6.8, 1.2, 9.5, 11.2]])\n",
    "\n",
    "alpha = 0.9\n",
    "p = [0.3, 0.2, 0.1, 0.1, 0.3]"
   ]
  },
  {
   "cell_type": "code",
   "execution_count": 3,
   "metadata": {
    "ExecuteTime": {
     "end_time": "2024-01-19T07:21:04.792555Z",
     "start_time": "2024-01-19T07:21:04.785050Z"
    }
   },
   "outputs": [
    {
     "data": {
      "text/plain": "        Bayes  Laplace  Wald  Savage  Hurwitz\nChoice      2        3     2       2        2",
      "text/html": "<div>\n<style scoped>\n    .dataframe tbody tr th:only-of-type {\n        vertical-align: middle;\n    }\n\n    .dataframe tbody tr th {\n        vertical-align: top;\n    }\n\n    .dataframe thead th {\n        text-align: right;\n    }\n</style>\n<table border=\"1\" class=\"dataframe\">\n  <thead>\n    <tr style=\"text-align: right;\">\n      <th></th>\n      <th>Bayes</th>\n      <th>Laplace</th>\n      <th>Wald</th>\n      <th>Savage</th>\n      <th>Hurwitz</th>\n    </tr>\n  </thead>\n  <tbody>\n    <tr>\n      <th>Choice</th>\n      <td>2</td>\n      <td>3</td>\n      <td>2</td>\n      <td>2</td>\n      <td>2</td>\n    </tr>\n  </tbody>\n</table>\n</div>"
     },
     "execution_count": 3,
     "metadata": {},
     "output_type": "execute_result"
    }
   ],
   "source": [
    "bayes = np.argmax(np.matmul(x,p)) + 1\n",
    "laplace = np.argmax(np.matmul(x, [1/len(p)]*len(p))) + 1\n",
    "wald = np.argmax(np.min(x, axis=1)) + 1\n",
    "savage = np.argmin(np.max(np.max(x, axis=0) - x, axis=1)) + 1\n",
    "hurwitz = np.argmax(alpha * np.min(x, axis=1) + (1 - alpha) * np.max(x, axis=1)) + 1    \n",
    "pd.DataFrame([[bayes, laplace, wald, savage, hurwitz]], columns=['Bayes', 'Laplace', 'Wald', 'Savage', 'Hurwitz'], index=['Choice'])"
   ]
  }
 ],
 "metadata": {
  "kernelspec": {
   "display_name": "Python 3",
   "language": "python",
   "name": "python3"
  },
  "language_info": {
   "codemirror_mode": {
    "name": "ipython",
    "version": 3
   },
   "file_extension": ".py",
   "mimetype": "text/x-python",
   "name": "python",
   "nbconvert_exporter": "python",
   "pygments_lexer": "ipython3",
   "version": "3.11.4"
  }
 },
 "nbformat": 4,
 "nbformat_minor": 2
}
