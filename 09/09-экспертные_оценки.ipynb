{
 "cells": [
  {
   "cell_type": "markdown",
   "source": [
    "# Экспертные оценки"
   ],
   "metadata": {
    "collapsed": false
   },
   "id": "d25b95a6581cceb"
  },
  {
   "cell_type": "code",
   "execution_count": 4,
   "outputs": [],
   "source": [
    "import pandas as pd\n",
    "import numpy as np"
   ],
   "metadata": {
    "collapsed": false,
    "ExecuteTime": {
     "end_time": "2024-01-19T21:18:36.852860Z",
     "start_time": "2024-01-19T21:18:36.846630Z"
    }
   },
   "id": "9da594149716cc19"
  },
  {
   "cell_type": "code",
   "execution_count": 9,
   "outputs": [
    {
     "data": {
      "text/plain": "          Эксперт 1  Эксперт 2  Эксперт 3  Эксперт 4  Эксперт 5\nОбъект 1        1.0        2.0        3.5          3          4\nОбъект 2        2.5        2.0        1.5          2          1\nОбъект 3        2.5        2.0        3.0          1          2\nОбъект 4        4.0        3.5        3.5          4          1",
      "text/html": "<div>\n<style scoped>\n    .dataframe tbody tr th:only-of-type {\n        vertical-align: middle;\n    }\n\n    .dataframe tbody tr th {\n        vertical-align: top;\n    }\n\n    .dataframe thead th {\n        text-align: right;\n    }\n</style>\n<table border=\"1\" class=\"dataframe\">\n  <thead>\n    <tr style=\"text-align: right;\">\n      <th></th>\n      <th>Эксперт 1</th>\n      <th>Эксперт 2</th>\n      <th>Эксперт 3</th>\n      <th>Эксперт 4</th>\n      <th>Эксперт 5</th>\n    </tr>\n  </thead>\n  <tbody>\n    <tr>\n      <th>Объект 1</th>\n      <td>1.0</td>\n      <td>2.0</td>\n      <td>3.5</td>\n      <td>3</td>\n      <td>4</td>\n    </tr>\n    <tr>\n      <th>Объект 2</th>\n      <td>2.5</td>\n      <td>2.0</td>\n      <td>1.5</td>\n      <td>2</td>\n      <td>1</td>\n    </tr>\n    <tr>\n      <th>Объект 3</th>\n      <td>2.5</td>\n      <td>2.0</td>\n      <td>3.0</td>\n      <td>1</td>\n      <td>2</td>\n    </tr>\n    <tr>\n      <th>Объект 4</th>\n      <td>4.0</td>\n      <td>3.5</td>\n      <td>3.5</td>\n      <td>4</td>\n      <td>1</td>\n    </tr>\n  </tbody>\n</table>\n</div>"
     },
     "execution_count": 9,
     "metadata": {},
     "output_type": "execute_result"
    }
   ],
   "source": [
    "evals = [[1,2,3.5,3,4],\n",
    "[2.5,2,1.5,2,1],\n",
    "[2.5,2,3,1,2],\n",
    "[4,3.5,3.5,4,1]]\n",
    "\n",
    "exp_matrix = pd.DataFrame(evals)\n",
    "exp_matrix.columns = [\"Эксперт \"+str(int(x) + 1) for x in exp_matrix.columns]\n",
    "exp_matrix.index = [\"Объект \"+str(int(x) + 1) for x in exp_matrix.index]\n",
    "exp_matrix"
   ],
   "metadata": {
    "collapsed": false,
    "ExecuteTime": {
     "end_time": "2024-01-20T11:36:21.949521Z",
     "start_time": "2024-01-20T11:36:21.946390Z"
    }
   },
   "id": "aa96d303d434c33e"
  },
  {
   "cell_type": "code",
   "execution_count": 10,
   "outputs": [
    {
     "data": {
      "text/plain": "Объект 1    0.268212\nОбъект 2    0.183863\nОбъект 3    0.216215\nОбъект 4    0.331710\ndtype: float64"
     },
     "execution_count": 10,
     "metadata": {},
     "output_type": "execute_result"
    }
   ],
   "source": [
    "B_matrix = exp_matrix @ exp_matrix.T\n",
    "vect_y = []\n",
    "for i in B_matrix.index:\n",
    "    vect_y.append((B_matrix.loc[i].prod()) ** (1 / B_matrix.shape[1]))\n",
    "pd.Series([yl/sum(vect_y) for yl in vect_y], index = exp_matrix.index)"
   ],
   "metadata": {
    "collapsed": false,
    "ExecuteTime": {
     "end_time": "2024-01-20T11:36:22.775716Z",
     "start_time": "2024-01-20T11:36:22.771715Z"
    }
   },
   "id": "5e7d32d69e0aba42"
  },
  {
   "cell_type": "code",
   "execution_count": 11,
   "outputs": [
    {
     "data": {
      "text/plain": "Эксперт 1    0.198296\nЭксперт 2    0.193934\nЭксперт 3    0.237108\nЭксперт 4    0.211858\nЭксперт 5    0.158805\ndtype: float64"
     },
     "execution_count": 11,
     "metadata": {},
     "output_type": "execute_result"
    }
   ],
   "source": [
    "C_matrix = exp_matrix.T @ exp_matrix\n",
    "vect_y = []\n",
    "for i in C_matrix.index:\n",
    "    vect_y.append((C_matrix.loc[i].prod()) ** (1 / C_matrix.shape[1]))\n",
    "pd.Series([yl/sum(vect_y) for yl in vect_y], index = exp_matrix.columns)"
   ],
   "metadata": {
    "collapsed": false,
    "ExecuteTime": {
     "end_time": "2024-01-20T11:36:23.226691Z",
     "start_time": "2024-01-20T11:36:23.219789Z"
    }
   },
   "id": "1ee9a51442b08b25"
  },
  {
   "cell_type": "code",
   "execution_count": null,
   "outputs": [],
   "source": [],
   "metadata": {
    "collapsed": false
   },
   "id": "b2848921ddd2c9dd"
  }
 ],
 "metadata": {
  "kernelspec": {
   "display_name": "Python 3",
   "language": "python",
   "name": "python3"
  },
  "language_info": {
   "codemirror_mode": {
    "name": "ipython",
    "version": 2
   },
   "file_extension": ".py",
   "mimetype": "text/x-python",
   "name": "python",
   "nbconvert_exporter": "python",
   "pygments_lexer": "ipython2",
   "version": "2.7.6"
  }
 },
 "nbformat": 4,
 "nbformat_minor": 5
}
