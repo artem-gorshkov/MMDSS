{
 "cells": [
  {
   "cell_type": "markdown",
   "source": [
    "Для начала попробуем отправить запрос и проверить, что chatGpt правильно понимает задачу"
   ],
   "metadata": {
    "collapsed": false
   },
   "id": "a03aff2c621725ba"
  },
  {
   "cell_type": "code",
   "execution_count": 13,
   "outputs": [
    {
     "name": "stdout",
     "output_type": "stream",
     "text": [
      "ChatCompletionMessage(content='Пусть x1, x2 и x3 - количество счетов, открытых для физических лиц, индивидуальных предпринимателей и юридических лиц, соответственно.\\n\\nТогда математическая постановка задачи линейного программирования будет следующей:\\n\\nМаксимизировать функцию дохода:\\n7 * x1 + 13 * x2 + 17 * x3\\n\\nС учетом нормативов расходования ресурсов сотрудников банка и финансовых затрат:\\n0.5 * x1 + 0.8 * x2 + 1 * x3 <= 400 (Фонд человеко-часов)\\n0.6 * x1 + 1.2 * x2 + 1.5 * x3 <= 500 (Бюджет)\\n\\nДополнительно требуется, чтобы количество счетов каждого типа было неотрицательным:\\nx1 >= 0\\nx2 >= 0\\nx3 >= 0\\n\\nТаким образом, задача состоит в максимизации функции дохода при ограничениях по фонду человеко-часов и бюджету, а также учитывает неотрицательность количества счетов каждого типа.', role='assistant', function_call=None, tool_calls=None)\n"
     ]
    }
   ],
   "source": [
    "from openai import OpenAI\n",
    "\n",
    "client = OpenAI(\n",
    "      api_key= \n",
    ")\n",
    "\n",
    "completion = client.chat.completions.create(\n",
    "  model=\"gpt-3.5-turbo\",\n",
    "  messages=[\n",
    "    {\"role\": \"system\", \"content\": \"Тебе необходимо сформировать математическую постановку задачи линейного программирования\"},\n",
    "    {\"role\": \"user\", \"content\": \"\"\"Сформулируй математическую постановку задачи линейного программирования: Банк может открывать счета клиентов трех типов: физические лица, индивидуальный предприниматель, юридическое лицо. Ведение счетов для клиентов платное и составляет 7, 13 и 17 тыс. рублей в год соответственно. Нормативы расходования ресурсов сотрудников банка для ведения одного счета для клиента заданного типа составляют: 0,5; 0,8 и 1 час соответственно. Финансовые затраты для ведения счета для клиента заданного типа составляют: 0,6; 1,2; 1,5 тыс. руб. соответственно. Фонд человеко-часов сотрудников банка, выделенный для ведения счетов составляет 400 часов, а бюджет составляет 500 тыс. руб. За пределы фонда и объема бюджета, выделенного для ведения счетов клиентов всех типов выходить нельзя. Помогите банку спланировать распределение счетов для клиентов каждого типа с целью получения максимального дохода.\"\"\"}\n",
    "  ]\n",
    ")\n",
    "\n",
    "print(completion.choices[0].message)"
   ],
   "metadata": {
    "collapsed": false,
    "ExecuteTime": {
     "start_time": "2024-01-17T17:07:36.190733Z"
    }
   },
   "id": "9b566ca587a8e721"
  },
  {
   "cell_type": "markdown",
   "source": [
    "Отлично, теперь попросим вывести данные в формате нашей программы"
   ],
   "metadata": {
    "collapsed": false
   },
   "id": "8b5792ac1f2d9ef4"
  },
  {
   "cell_type": "code",
   "execution_count": 14,
   "outputs": [
    {
     "name": "stdout",
     "output_type": "stream",
     "text": [
      "ChatCompletionMessage(content='{\"W\": [7, 13, 17],\\n\"direction\": \"max\",\\n\"A\": [\\n    [0.5, 0.8, 1],\\n    [0.6, 1.2, 1.5]\\n],\\n\"constraints_direction\": [\"l\", \"l\"],\\n\"b\": [400.0, 500.0],\\n\"vars_constraints\": [0.0, 0.0, 0.0]}', role='assistant', function_call=None, tool_calls=None)\n"
     ]
    }
   ],
   "source": [
    "completion = client.chat.completions.create(\n",
    "  model=\"gpt-3.5-turbo\",\n",
    "  messages=[\n",
    "    {\"role\": \"system\", \"content\": \n",
    "        \"\"\"Тебе необходимо сформировать математическую постановку задачи линейного программирования и записать ее в формате json. Пример твоего ответа:\n",
    "{\"W\": [5,6,7],\n",
    "\"direction\": \"max\",\n",
    "\"A\": [\n",
    "    [1.2, 0.8, 0.6],\n",
    "    [0.5, 0.7, 1]\n",
    "],\n",
    "\"constraints_direction\": [\"l\", \"l\"],\n",
    "\"b\": [500.0, 400.0],\n",
    "\"vars_constraints\": [0.0, 0.0, 0.0]}\n",
    "В этом примере: \n",
    "W - массив коэффициентов для целевой функции,\n",
    "direction - направление оптимизации. Могут быть значения max и min,\n",
    "A - двойной массив. Содержит массивы коэффициентов для ограничений,\n",
    "constraints_direction - массив со знаками для ограничений. Могут быть значения: l - меньше, b - больше, e - равно,\n",
    "b - массив правых частей ограничений,\n",
    "vars_constraints - ограничения снизу для переменных.\"\"\"},\n",
    "    {\"role\": \"user\", \"content\": \"\"\"Банк может открывать счета клиентов трех типов: физические лица, индивидуальный предприниматель, юридическое лицо. Ведение счетов для клиентов платное и составляет 7, 13 и 17 тыс. рублей в год соответственно. Нормативы расходования ресурсов сотрудников банка для ведения одного счета для клиента заданного типа составляют: 0,5; 0,8 и 1 час соответственно. Финансовые затраты для ведения счета для клиента заданного типа составляют: 0,6; 1,2; 1,5 тыс. руб. соответственно. Фонд человеко-часов сотрудников банка, выделенный для ведения счетов составляет 400 часов, а бюджет составляет 500 тыс. руб. За пределы фонда и объема бюджета, выделенного для ведения счетов клиентов всех типов выходить нельзя. Помогите банку спланировать распределение счетов для клиентов каждого типа с целью получения максимального дохода.\"\"\"}\n",
    "  ]\n",
    ")\n",
    "\n",
    "print(completion.choices[0].message)"
   ],
   "metadata": {
    "collapsed": false,
    "ExecuteTime": {
     "end_time": "2024-01-17T17:22:51.636625Z",
     "start_time": "2024-01-17T17:22:46.723841Z"
    }
   },
   "id": "29e4c66d0878151b"
  },
  {
   "cell_type": "markdown",
   "source": [
    "Прекрасно! Получилось именно то что нужно."
   ],
   "metadata": {
    "collapsed": false
   },
   "id": "f88dce332c630888"
  },
  {
   "cell_type": "code",
   "execution_count": 16,
   "outputs": [
    {
     "data": {
      "text/plain": "'{\"W\": [7, 13, 17],\\n\"direction\": \"max\",\\n\"A\": [\\n    [0.5, 0.8, 1],\\n    [0.6, 1.2, 1.5]\\n],\\n\"constraints_direction\": [\"l\", \"l\"],\\n\"b\": [400.0, 500.0],\\n\"vars_constraints\": [0.0, 0.0, 0.0]}'"
     },
     "execution_count": 16,
     "metadata": {},
     "output_type": "execute_result"
    }
   ],
   "source": [
    "completion.choices[0].message.content"
   ],
   "metadata": {
    "collapsed": false,
    "ExecuteTime": {
     "end_time": "2024-01-17T17:53:32.282527Z",
     "start_time": "2024-01-17T17:53:32.279717Z"
    }
   },
   "id": "6fe9c42dfc630334"
  },
  {
   "cell_type": "code",
   "execution_count": 17,
   "outputs": [],
   "source": [
    "def get_input_data(text):\n",
    "  completion = client.chat.completions.create(\n",
    "    model=\"gpt-3.5-turbo\",\n",
    "    messages=[\n",
    "      {\"role\": \"system\", \"content\": \n",
    "        \"\"\"Тебе необходимо сформировать математическую постановку задачи линейного программирования и записать ее в формате json. Пример твоего ответа:\n",
    "{\"W\": [5,6,7],\n",
    "\"direction\": \"max\",\n",
    "\"A\": [\n",
    "    [1.2, 0.8, 0.6],\n",
    "    [0.5, 0.7, 1]\n",
    "],\n",
    "\"constraints_direction\": [\"l\", \"l\"],\n",
    "\"b\": [500.0, 400.0],\n",
    "\"vars_constraints\": [0.0, 0.0, 0.0]}\n",
    "В этом примере: \n",
    "W - массив коэффициентов для целевой функции,\n",
    "direction - направление оптимизации. Могут быть значения max и min,\n",
    "A - двойной массив. Содержит массивы коэффициентов для ограничений,\n",
    "constraints_direction - массив со знаками для ограничений. Могут быть значения: l - меньше, b - больше, e - равно,\n",
    "b - массив правых частей ограничений,\n",
    "vars_constraints - ограничения снизу для переменных.\"\"\"},\n",
    "    {\"role\": \"user\", \"content\": text}\n",
    "    ])\n",
    "  return completion.choices[0].message.content"
   ],
   "metadata": {
    "collapsed": false,
    "ExecuteTime": {
     "end_time": "2024-01-17T17:53:33.308058Z",
     "start_time": "2024-01-17T17:53:33.301858Z"
    }
   },
   "id": "2f9ba64491575473"
  },
  {
   "cell_type": "code",
   "execution_count": 18,
   "outputs": [],
   "source": [
    "import json\n",
    "import numpy as np\n",
    "import copy\n",
    "\n",
    "def read_file(name):\n",
    "    with open(name, 'r') as f:\n",
    "        data = f.read()\n",
    "\n",
    "    return parse_input(data)\n",
    "def parse_input(data):\n",
    "    data = json.loads(data)\n",
    "    if data['direction'] == 'min':\n",
    "        c = np.array(data['W'], dtype=np.float64)\n",
    "    else:\n",
    "        c = - np.array(data['W'], dtype=np.float64)\n",
    "    A = np.array(data['A'])\n",
    "    b = np.array(data['b'])\n",
    "    constr_dir = data['constraints_direction']\n",
    "    unique, counts = np.unique(constr_dir, return_counts=True)\n",
    "    c_dict = dict(zip(unique, counts))\n",
    "    return data, A, b, c, constr_dir, c_dict\n",
    "def make_canonical_form(data, A, constr_dir, c, c_dict):    \n",
    "    A = np.hstack([A, np.zeros((len(A), c_dict['l']))])\n",
    "    \n",
    "    j = len(c)\n",
    "    for i in range(len(constr_dir)):\n",
    "        if data['constraints_direction'][i] == 'g':\n",
    "            A[i, j] = -1\n",
    "            j += 1\n",
    "                \n",
    "        elif data['constraints_direction'][i] == 'l':\n",
    "            A[i, j] = 1\n",
    "            j += 1\n",
    "            \n",
    "        elif data['constraints_direction'][i] == 'e':\n",
    "            continue\n",
    "        \n",
    "        else:\n",
    "            print('Wrong constraint direction')\n",
    "            \n",
    "    return A\n",
    "def simplex_step(A_s, b_s, z, Q, base_vars, free_vars):\n",
    "    main_col = np.argmin(z)\n",
    "    \n",
    "    \n",
    "    penalty = 100_000\n",
    "    row_array = []\n",
    "    for i in range(len(A_s)):\n",
    "        if A_s[i, main_col] > 0:\n",
    "            row_array.append(b_s[i] / A_s[i, main_col])\n",
    "        else:\n",
    "            row_array.append(penalty)\n",
    "            \n",
    "    if np.sum(row_array) == penalty * len(A_s):\n",
    "        print('Целевая функция не ограничена снизу')\n",
    "        return 0\n",
    "            \n",
    "    else:\n",
    "        main_row = np.argmin(row_array)\n",
    "        main_el = A_s[main_row, main_col]\n",
    "        \n",
    "        \n",
    "        #compute new matrix A \n",
    "        A_s_new = copy.deepcopy(A_s)\n",
    "        A_s_new[main_row] = A_s[main_row] / main_el\n",
    "        A_s_new[:, main_col] = -A_s[:, main_col]/main_el\n",
    "        A_s_new[main_row, main_col] = 1/main_el\n",
    "        \n",
    "        for i in range(A_s.shape[0]):\n",
    "            for j in range(A_s.shape[1]):\n",
    "                if (i != main_row) and (j != main_col):\n",
    "                    A_s_new[i, j] = A_s[i, j] - A_s[main_row, j] * A_s[i, main_col] / main_el\n",
    "        \n",
    "        \n",
    "        #compute new z vector\n",
    "        z_new = copy.deepcopy(z)\n",
    "        z_new[main_col] = -z[main_col]/main_el\n",
    "        for j in range(len(z_new)):\n",
    "            if j != main_col:\n",
    "                z_new[j] = z[j] - z[main_col] * A_s[main_row, j] / main_el\n",
    "        \n",
    "        \n",
    "        #compute new b vector\n",
    "        b_s_new = copy.deepcopy(b_s)\n",
    "        b_s_new[main_row] = b_s[main_row]/main_el\n",
    "        for i in range(len(b_s_new)):\n",
    "            if i != main_row:\n",
    "                b_s_new[i] = b_s[i] - b_s[main_row] * A_s[i, main_col] / main_el\n",
    "        \n",
    "        #compute cost function\n",
    "        Q_new = Q - b_s[main_row] * z[main_col] / main_el\n",
    "        \n",
    "        #change base vars with free vars\n",
    "        change_val = base_vars[main_row]\n",
    "        base_vars[main_row] = free_vars[main_col]\n",
    "        free_vars[main_col] = change_val\n",
    "        \n",
    "        \n",
    "        return A_s_new, b_s_new, z_new, Q_new, base_vars, free_vars\n",
    "def pretty_print(A_s, b_s, z, Q, base_vars, free_vars):\n",
    "    print(\"---Begin---\")\n",
    "    print(\"A_s:\")\n",
    "    for row in A_s:\n",
    "        print(\"  \", \" \".join(f\"{val:8.2f}\" for val in row))\n",
    "    \n",
    "    print(\"\\nb_s:\")\n",
    "    print(\"  \", \" \".join(f\"{val:8.2f}\" for val in b_s))\n",
    "    \n",
    "    print(\"\\nz:\")\n",
    "    print(\"  \", \" \".join(f\"{val:8.2f}\" for val in z))\n",
    "    \n",
    "    print(\"\\nQ:\")\n",
    "    print(\"  \", f\"{Q:8.2f}\")\n",
    "    \n",
    "    print(\"\\nBase Variables:\")\n",
    "    print(\"  \", \" \".join(map(str, base_vars)))\n",
    "    \n",
    "    print(\"\\nFree Variables:\")\n",
    "    print(\"  \", \" \".join(map(str, free_vars)))\n",
    "    print(\"---End---\")"
   ],
   "metadata": {
    "collapsed": false,
    "ExecuteTime": {
     "end_time": "2024-01-17T17:53:36.135373Z",
     "start_time": "2024-01-17T17:53:35.391050Z"
    }
   },
   "id": "1ae14b2da145aa49"
  },
  {
   "cell_type": "markdown",
   "source": [
    "Добавим чтение из файла:"
   ],
   "metadata": {
    "collapsed": false
   },
   "id": "4827d31724df1496"
  },
  {
   "cell_type": "code",
   "execution_count": 19,
   "outputs": [
    {
     "name": "stdout",
     "output_type": "stream",
     "text": [
      "---Begin---\n",
      "A_s:\n",
      "       0.50     0.80     1.00\n",
      "       0.60     1.20     1.50\n",
      "\n",
      "b_s:\n",
      "     400.00   500.00\n",
      "\n",
      "z:\n",
      "      -7.00   -13.00   -17.00\n",
      "\n",
      "Q:\n",
      "       0.00\n",
      "\n",
      "Base Variables:\n",
      "   4 5\n",
      "\n",
      "Free Variables:\n",
      "   1 2 3\n",
      "---End---\n",
      "---Begin---\n",
      "A_s:\n",
      "       0.10     0.00    -0.67\n",
      "       0.40     0.80     0.67\n",
      "\n",
      "b_s:\n",
      "      66.67   333.33\n",
      "\n",
      "z:\n",
      "      -0.20     0.60    11.33\n",
      "\n",
      "Q:\n",
      "    5666.67\n",
      "\n",
      "Base Variables:\n",
      "   4 3\n",
      "\n",
      "Free Variables:\n",
      "   1 2 5\n",
      "---End---\n",
      "---Begin---\n",
      "A_s:\n",
      "      10.00     0.00    -6.67\n",
      "      -4.00     0.80     3.33\n",
      "\n",
      "b_s:\n",
      "     666.67    66.67\n",
      "\n",
      "z:\n",
      "       2.00     0.60    10.00\n",
      "\n",
      "Q:\n",
      "    5800.00\n",
      "\n",
      "Base Variables:\n",
      "   1 3\n",
      "\n",
      "Free Variables:\n",
      "   4 2 5\n",
      "---End---\n",
      "[(1, 666.6666666666666), (3, 66.66666666666669)]\n"
     ]
    },
    {
     "data": {
      "text/plain": "[(1, 666.6666666666666), (3, 66.66666666666669)]"
     },
     "execution_count": 19,
     "metadata": {},
     "output_type": "execute_result"
    }
   ],
   "source": [
    "with open('text_input.txt', 'r') as f:\n",
    "  data = f.read()\n",
    "get_input_data(data)\n",
    "data, A, b, c, constr_dir, c_dict = parse_input(completion.choices[0].message.content)\n",
    "A = make_canonical_form(data, A, constr_dir, c, c_dict)\n",
    "b_s = b\n",
    "A_s = A[:, :-2]\n",
    "z = c\n",
    "Q = 0\n",
    "base_vars = np.arange(len(A_s[0]) + 1, len(A_s[0]) + 1 + len(b))\n",
    "free_vars = np.arange(1, len(A_s[0]) + 1)\n",
    "pretty_print(A_s, b_s, z, Q, base_vars, free_vars)\n",
    "while np.any(z < 0):\n",
    "    A_s, b_s, z, Q, base_vars, free_vars = simplex_step(A_s, b_s, z, Q, base_vars, free_vars)\n",
    "    pretty_print(A_s, b_s, z, Q, base_vars, free_vars)\n",
    "result = sorted(zip(base_vars, b_s), key=lambda x: x[0])\n",
    "print(result)\n",
    "result = [(key, value) for key, value in result if key <= 3]\n",
    "result"
   ],
   "metadata": {
    "collapsed": false,
    "ExecuteTime": {
     "end_time": "2024-01-17T17:53:47.522566Z",
     "start_time": "2024-01-17T17:53:42.749118Z"
    }
   },
   "id": "d774c39b622485f9"
  },
  {
   "cell_type": "code",
   "execution_count": 20,
   "outputs": [
    {
     "name": "stdout",
     "output_type": "stream",
     "text": [
      "x_1=666; x_3=66\n"
     ]
    }
   ],
   "source": [
    "formatted_results = []\n",
    "\n",
    "for item in result:\n",
    "    variable_name = f\"x_{item[0]}\"\n",
    "    variable_value = int(item[1])\n",
    "    formatted_results.append(f\"{variable_name}={variable_value}\")\n",
    "\n",
    "pretty_print = '; '.join(formatted_results)\n",
    "\n",
    "print(pretty_print)"
   ],
   "metadata": {
    "collapsed": false,
    "ExecuteTime": {
     "end_time": "2024-01-17T17:56:52.327299Z",
     "start_time": "2024-01-17T17:56:52.319032Z"
    }
   },
   "id": "dd51d3320e29cbc4"
  },
  {
   "cell_type": "code",
   "execution_count": null,
   "outputs": [],
   "source": [],
   "metadata": {
    "collapsed": false
   },
   "id": "4ccf3878cc235af0"
  }
 ],
 "metadata": {
  "kernelspec": {
   "display_name": "Python 3",
   "language": "python",
   "name": "python3"
  },
  "language_info": {
   "codemirror_mode": {
    "name": "ipython",
    "version": 2
   },
   "file_extension": ".py",
   "mimetype": "text/x-python",
   "name": "python",
   "nbconvert_exporter": "python",
   "pygments_lexer": "ipython2",
   "version": "2.7.6"
  }
 },
 "nbformat": 4,
 "nbformat_minor": 5
}
