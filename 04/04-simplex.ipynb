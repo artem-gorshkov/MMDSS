{
 "cells": [
  {
   "cell_type": "markdown",
   "source": [
    "# Решение финансовых ЗЛП с помощью симплекс метода\n",
    "## Постановка задачи\n",
    "$x_1, x_2, x_3$ - количество счетов физ. лицам, юр. лицам и индивидуальным предпринимателям.\n",
    "\n",
    "Доходность услуг для банка:\n",
    "$F(x_1,x_2,x_3) = 5  x_1 + 6  x_2 + 7  x_3 \\to \\max$ \n",
    "\n",
    "\n",
    "Ограничения: \n",
    "1. Финансовые затраты на для ведения счета\n",
    "2. Затраты ресурсов сотрудников для ведения счета\n",
    "\n",
    "$\\begin{cases} \n",
    "1.2 x_1 + 0.8 x_2 + 0.6 x_3 \\leq 500 \\\\\n",
    "0.5 x_1 + 0.7 x_2 + 1 x_3 \\leq 400 \\\\\n",
    "x_1, x_2, x_3 \\geq 0\n",
    "\\end{cases}$"
   ],
   "metadata": {
    "collapsed": false
   },
   "id": "41d21f55ae0770ae"
  },
  {
   "cell_type": "markdown",
   "source": [
    "## Разработка программы\n",
    "\n",
    "1. Функции чтения файла\n",
    "2. Функция приведения к канонической форме\n",
    "3. Шаг симплекс метода\n",
    "4. Вспомогательный шаг\n",
    "5. Запуск симплекс метода \n",
    "6. Интеграция с ChatGpt для автоматизации формирования математической постановки"
   ],
   "metadata": {
    "collapsed": false
   },
   "id": "a07d621f2060841f"
  },
  {
   "cell_type": "code",
   "execution_count": 567,
   "outputs": [],
   "source": [
    "import json\n",
    "import numpy as np\n",
    "\n",
    "def read_file(name):\n",
    "    with open(name, 'r') as f:\n",
    "        data = f.read()\n",
    "\n",
    "    return parse_input(data)\n",
    "\n",
    "\n",
    "def parse_input(data):\n",
    "    data = json.loads(data)\n",
    "    if data['direction'] == 'min':\n",
    "        c = np.array(data['W'], dtype=np.float64)\n",
    "    else:\n",
    "        c = - np.array(data['W'], dtype=np.float64)\n",
    "    A = np.array(data['A'])\n",
    "    b = np.array(data['b'])\n",
    "    constr_dir = data['constraints_direction']\n",
    "    unique, counts = np.unique(constr_dir, return_counts=True)\n",
    "    c_dict = dict(zip(unique, counts))\n",
    "    return data, A, b, c, constr_dir, c_dict"
   ],
   "metadata": {
    "collapsed": false,
    "ExecuteTime": {
     "end_time": "2024-01-17T17:43:01.710452Z",
     "start_time": "2024-01-17T17:43:01.671622Z"
    }
   },
   "id": "d351515b56bd8bd4"
  },
  {
   "cell_type": "code",
   "execution_count": 568,
   "outputs": [],
   "source": [
    "def make_canonical_form(data, A, constr_dir, c, c_dict):    \n",
    "    A = np.hstack([A, np.zeros((len(A), c_dict['l']))])\n",
    "    \n",
    "    j = len(c)\n",
    "    for i in range(len(constr_dir)):\n",
    "        if data['constraints_direction'][i] == 'g':\n",
    "            A[i, j] = -1\n",
    "            j += 1\n",
    "                \n",
    "        elif data['constraints_direction'][i] == 'l':\n",
    "            A[i, j] = 1\n",
    "            j += 1\n",
    "            \n",
    "        elif data['constraints_direction'][i] == 'e':\n",
    "            continue\n",
    "        \n",
    "        else:\n",
    "            print('Wrong constraint direction')\n",
    "            \n",
    "    return A"
   ],
   "metadata": {
    "collapsed": false,
    "ExecuteTime": {
     "end_time": "2024-01-17T17:43:01.717636Z",
     "start_time": "2024-01-17T17:43:01.676296Z"
    }
   },
   "id": "c072f0db7aa5ff06"
  },
  {
   "cell_type": "code",
   "execution_count": 569,
   "outputs": [
    {
     "name": "stdout",
     "output_type": "stream",
     "text": [
      "[[1.2 0.8 0.6 1.  0. ]\n",
      " [0.5 0.7 1.  0.  1. ]]\n"
     ]
    }
   ],
   "source": [
    "data, A, b, c, constr_dir, c_dict = read_file('simplex_task.txt')\n",
    "A = make_canonical_form(data, A, constr_dir, c, c_dict)\n",
    "print(A)"
   ],
   "metadata": {
    "collapsed": false,
    "ExecuteTime": {
     "end_time": "2024-01-17T17:43:01.717812Z",
     "start_time": "2024-01-17T17:43:01.679350Z"
    }
   },
   "id": "aa1d0efcec208c23"
  },
  {
   "cell_type": "code",
   "execution_count": 570,
   "outputs": [],
   "source": [
    "import copy\n",
    "\n",
    "def simplex_step(A_s, b_s, z, Q, base_vars, free_vars):\n",
    "    main_col = np.argmin(z)\n",
    "    \n",
    "    \n",
    "    penalty = 100_000\n",
    "    row_array = []\n",
    "    for i in range(len(A_s)):\n",
    "        if A_s[i, main_col] > 0:\n",
    "            row_array.append(b_s[i] / A_s[i, main_col])\n",
    "        else:\n",
    "            row_array.append(penalty)\n",
    "            \n",
    "    if np.sum(row_array) == penalty * len(A_s):\n",
    "        print('Целевая функция не ограничена снизу')\n",
    "        return 0\n",
    "            \n",
    "    else:\n",
    "        main_row = np.argmin(row_array)\n",
    "        main_el = A_s[main_row, main_col]\n",
    "        \n",
    "        \n",
    "        #compute new matrix A \n",
    "        A_s_new = copy.deepcopy(A_s)\n",
    "        A_s_new[main_row] = A_s[main_row] / main_el\n",
    "        A_s_new[:, main_col] = -A_s[:, main_col]/main_el\n",
    "        A_s_new[main_row, main_col] = 1/main_el\n",
    "        \n",
    "        for i in range(A_s.shape[0]):\n",
    "            for j in range(A_s.shape[1]):\n",
    "                if (i != main_row) and (j != main_col):\n",
    "                    A_s_new[i, j] = A_s[i, j] - A_s[main_row, j] * A_s[i, main_col] / main_el\n",
    "        \n",
    "        \n",
    "        #compute new z vector\n",
    "        z_new = copy.deepcopy(z)\n",
    "        z_new[main_col] = -z[main_col]/main_el\n",
    "        for j in range(len(z_new)):\n",
    "            if j != main_col:\n",
    "                z_new[j] = z[j] - z[main_col] * A_s[main_row, j] / main_el\n",
    "        \n",
    "        \n",
    "        #compute new b vector\n",
    "        b_s_new = copy.deepcopy(b_s)\n",
    "        b_s_new[main_row] = b_s[main_row]/main_el\n",
    "        for i in range(len(b_s_new)):\n",
    "            if i != main_row:\n",
    "                b_s_new[i] = b_s[i] - b_s[main_row] * A_s[i, main_col] / main_el\n",
    "        \n",
    "        #compute cost function\n",
    "        Q_new = Q - b_s[main_row] * z[main_col] / main_el\n",
    "        \n",
    "        #change base vars with free vars\n",
    "        change_val = base_vars[main_row]\n",
    "        base_vars[main_row] = free_vars[main_col]\n",
    "        free_vars[main_col] = change_val\n",
    "        \n",
    "        \n",
    "        return A_s_new, b_s_new, z_new, Q_new, base_vars, free_vars"
   ],
   "metadata": {
    "collapsed": false,
    "ExecuteTime": {
     "end_time": "2024-01-17T17:43:01.717844Z",
     "start_time": "2024-01-17T17:43:01.688481Z"
    }
   },
   "id": "ebf1ee9b98e94ed"
  },
  {
   "cell_type": "code",
   "execution_count": 571,
   "outputs": [],
   "source": [
    "def auxilary_task_step(A_s, b_s, z, Q, base_vars, free_vars):\n",
    "    main_col = np.argmin(z)\n",
    "    \n",
    "    penalty = 100_000\n",
    "    row_array = []\n",
    "    for i in range(len(A_s)):\n",
    "        if A_s[i, main_col] > 0:\n",
    "            row_array.append(b_s[i] / A_s[i, main_col])\n",
    "        else:\n",
    "            row_array.append(penalty)\n",
    "            \n",
    "    if np.sum(row_array) == penalty * len(A_s):\n",
    "        print('Unconstrained objective function')\n",
    "        return 0\n",
    "            \n",
    "    else:\n",
    "        main_row = np.argmin(row_array)\n",
    "        main_el = A_s[main_row, main_col]\n",
    "        \n",
    "        \n",
    "        #compute new matrix A \n",
    "        A_s_new = copy.deepcopy(A_s)\n",
    "        A_s_new[main_row] = A_s[main_row] / main_el\n",
    "        A_s_new[:, main_col] = -A_s[:, main_col]/main_el\n",
    "        A_s_new[main_row, main_col] = 1/main_el\n",
    "        \n",
    "        for i in range(A_s.shape[0]):\n",
    "            for j in range(A_s.shape[1]-1):\n",
    "                if (i != main_row) and (j != main_col):\n",
    "                    A_s_new[i, j] = A_s[i, j] - A_s[main_row, j] * A_s[i, main_col] / main_el\n",
    "        \n",
    "        \n",
    "        #compute new z vector\n",
    "        z_new = copy.deepcopy(z)\n",
    "        z_new[main_col] = -z[main_col]/main_el\n",
    "        for j in range(len(z_new)):\n",
    "            if j != main_col:\n",
    "                z_new[j] = z[j] - z[main_col] * A_s[main_row, j] / main_el\n",
    "        \n",
    "        \n",
    "        #compute new b vector\n",
    "        b_s_new = copy.deepcopy(b_s)\n",
    "        b_s_new[main_row] = b_s[main_row]/main_el\n",
    "        for i in range(len(b_s_new)):\n",
    "            if i != main_row:\n",
    "                b_s_new[i] = b_s[i] - b_s[main_row] * A_s[i, main_col] / main_el\n",
    "        \n",
    "        #compute cost function\n",
    "        Q_new = Q - b_s[main_row] * z[main_col] / main_el\n",
    "        \n",
    "        #change base vars with free vars\n",
    "        change_val = base_vars[main_row]\n",
    "        base_vars[main_row] = free_vars[main_col]\n",
    "        free_vars[main_col] = change_val\n",
    "\n",
    "        #delete main column with base variable\n",
    "        free_vars = np.delete(free_vars, main_col)\n",
    "        A_s_new = np.delete(A_s_new, main_col, axis=1)\n",
    "        z_new = np.delete(z_new, main_col)\n",
    "        \n",
    "        return A_s_new, b_s_new, z_new, Q_new, base_vars, free_vars"
   ],
   "metadata": {
    "collapsed": false,
    "ExecuteTime": {
     "end_time": "2024-01-17T17:43:01.717870Z",
     "start_time": "2024-01-17T17:43:01.696002Z"
    }
   },
   "id": "1fae7fa946633618"
  },
  {
   "cell_type": "code",
   "execution_count": 572,
   "outputs": [],
   "source": [
    "# b_s = b\n",
    "# A_s = A\n",
    "# z = -np.sum(A_s, 0)\n",
    "# Q = -np.sum(b_s, 0)\n",
    "# \n",
    "# base_vars = np.arange(len(A[0]) + 1, len(A[0]) + 1 + len(b))\n",
    "# free_vars = np.arange(1, len(A[0]) + 1)"
   ],
   "metadata": {
    "collapsed": false,
    "ExecuteTime": {
     "end_time": "2024-01-17T17:43:01.717894Z",
     "start_time": "2024-01-17T17:43:01.698298Z"
    }
   },
   "id": "7e969d09efe40301"
  },
  {
   "cell_type": "code",
   "execution_count": 573,
   "outputs": [],
   "source": [
    "def pretty_print(A_s, b_s, z, Q, base_vars, free_vars):\n",
    "    print(\"---Begin---\")\n",
    "    print(\"A_s:\")\n",
    "    for row in A_s:\n",
    "        print(\"  \", \" \".join(f\"{val:8.2f}\" for val in row))\n",
    "    \n",
    "    print(\"\\nb_s:\")\n",
    "    print(\"  \", \" \".join(f\"{val:8.2f}\" for val in b_s))\n",
    "    \n",
    "    print(\"\\nz:\")\n",
    "    print(\"  \", \" \".join(f\"{val:8.2f}\" for val in z))\n",
    "    \n",
    "    print(\"\\nQ:\")\n",
    "    print(\"  \", f\"{Q:8.2f}\")\n",
    "    \n",
    "    print(\"\\nBase Variables:\")\n",
    "    print(\"  \", \" \".join(map(str, base_vars)))\n",
    "    \n",
    "    print(\"\\nFree Variables:\")\n",
    "    print(\"  \", \" \".join(map(str, free_vars)))\n",
    "    print(\"---End---\")"
   ],
   "metadata": {
    "collapsed": false,
    "ExecuteTime": {
     "end_time": "2024-01-17T17:43:01.717928Z",
     "start_time": "2024-01-17T17:43:01.701578Z"
    }
   },
   "id": "3073fd8c68e59479"
  },
  {
   "cell_type": "code",
   "execution_count": 574,
   "outputs": [],
   "source": [
    "# pretty_print(A_s, b_s, z, Q, base_vars, free_vars)\n",
    "# while np.any(z < 0):\n",
    "#     A_s, b_s, z, Q, base_vars, free_vars = auxilary_task_step(A_s, b_s, z, Q, base_vars, free_vars)\n",
    "#     pretty_print(A_s, b_s, z, Q, base_vars, free_vars)"
   ],
   "metadata": {
    "collapsed": false,
    "ExecuteTime": {
     "end_time": "2024-01-17T17:43:01.717951Z",
     "start_time": "2024-01-17T17:43:01.703712Z"
    }
   },
   "id": "a60c745179b8a22e"
  },
  {
   "cell_type": "code",
   "execution_count": 575,
   "outputs": [],
   "source": [
    "b_s = b\n",
    "A_s = A[:, :-2]\n",
    "z = c\n",
    "Q = 0\n",
    "base_vars = np.arange(len(A_s[0]) + 1, len(A_s[0]) + 1 + len(b))\n",
    "free_vars = np.arange(1, len(A_s[0]) + 1)"
   ],
   "metadata": {
    "collapsed": false,
    "ExecuteTime": {
     "end_time": "2024-01-17T17:43:01.718002Z",
     "start_time": "2024-01-17T17:43:01.706469Z"
    }
   },
   "id": "b91fcd4b186c1e90"
  },
  {
   "cell_type": "code",
   "execution_count": 576,
   "outputs": [
    {
     "name": "stdout",
     "output_type": "stream",
     "text": [
      "---Begin---\n",
      "A_s:\n",
      "       1.20     0.80     0.60\n",
      "       0.50     0.70     1.00\n",
      "\n",
      "b_s:\n",
      "     500.00   400.00\n",
      "\n",
      "z:\n",
      "      -5.00    -6.00    -7.00\n",
      "\n",
      "Q:\n",
      "       0.00\n",
      "\n",
      "Base Variables:\n",
      "   4 5\n",
      "\n",
      "Free Variables:\n",
      "   1 2 3\n",
      "---End---\n"
     ]
    }
   ],
   "source": [
    "pretty_print(A_s, b_s, z, Q, base_vars, free_vars)"
   ],
   "metadata": {
    "collapsed": false,
    "ExecuteTime": {
     "end_time": "2024-01-17T17:43:01.722733Z",
     "start_time": "2024-01-17T17:43:01.708975Z"
    }
   },
   "id": "15b7056496b3cdaf"
  },
  {
   "cell_type": "code",
   "execution_count": 577,
   "outputs": [
    {
     "name": "stdout",
     "output_type": "stream",
     "text": [
      "---Begin---\n",
      "A_s:\n",
      "       0.90     0.38    -0.60\n",
      "       0.50     0.70     1.00\n",
      "\n",
      "b_s:\n",
      "     260.00   400.00\n",
      "\n",
      "z:\n",
      "      -1.50    -1.10     7.00\n",
      "\n",
      "Q:\n",
      "    2800.00\n",
      "\n",
      "Base Variables:\n",
      "   4 3\n",
      "\n",
      "Free Variables:\n",
      "   1 2 5\n",
      "---End---\n",
      "---Begin---\n",
      "A_s:\n",
      "       1.11     0.42    -0.67\n",
      "      -0.56     0.49     1.33\n",
      "\n",
      "b_s:\n",
      "     288.89   255.56\n",
      "\n",
      "z:\n",
      "       1.67    -0.47     6.00\n",
      "\n",
      "Q:\n",
      "    3233.33\n",
      "\n",
      "Base Variables:\n",
      "   1 3\n",
      "\n",
      "Free Variables:\n",
      "   4 2 5\n",
      "---End---\n",
      "---Begin---\n",
      "A_s:\n",
      "       1.59    -0.86    -1.82\n",
      "      -1.14     2.05     2.73\n",
      "\n",
      "b_s:\n",
      "      68.18   522.73\n",
      "\n",
      "z:\n",
      "       1.14     0.95     7.27\n",
      "\n",
      "Q:\n",
      "    3477.27\n",
      "\n",
      "Base Variables:\n",
      "   1 2\n",
      "\n",
      "Free Variables:\n",
      "   4 3 5\n",
      "---End---\n"
     ]
    }
   ],
   "source": [
    "while np.any(z < 0):\n",
    "    A_s, b_s, z, Q, base_vars, free_vars = simplex_step(A_s, b_s, z, Q, base_vars, free_vars)\n",
    "    pretty_print(A_s, b_s, z, Q, base_vars, free_vars)"
   ],
   "metadata": {
    "collapsed": false,
    "ExecuteTime": {
     "end_time": "2024-01-17T17:43:01.723456Z",
     "start_time": "2024-01-17T17:43:01.712024Z"
    }
   },
   "id": "827fbe0a371e4fd5"
  },
  {
   "cell_type": "code",
   "execution_count": 578,
   "outputs": [
    {
     "name": "stdout",
     "output_type": "stream",
     "text": [
      "[(1, 68.18181818181813), (2, 522.7272727272727)]\n"
     ]
    },
    {
     "data": {
      "text/plain": "[(1, 68.18181818181813), (2, 522.7272727272727)]"
     },
     "execution_count": 578,
     "metadata": {},
     "output_type": "execute_result"
    }
   ],
   "source": [
    "result = sorted(zip(base_vars, b_s), key=lambda x: x[0])\n",
    "print(result)\n",
    "result = [(key, value) for key, value in result if key <= 3]\n",
    "result"
   ],
   "metadata": {
    "collapsed": false,
    "ExecuteTime": {
     "end_time": "2024-01-17T17:43:01.723596Z",
     "start_time": "2024-01-17T17:43:01.715307Z"
    }
   },
   "id": "6a9a7b3bd169165e"
  },
  {
   "cell_type": "code",
   "execution_count": 578,
   "outputs": [],
   "source": [],
   "metadata": {
    "collapsed": false,
    "ExecuteTime": {
     "end_time": "2024-01-17T17:43:01.724925Z",
     "start_time": "2024-01-17T17:43:01.717254Z"
    }
   },
   "id": "80dc7bb958cc9d9f"
  }
 ],
 "metadata": {
  "kernelspec": {
   "display_name": "Python 3",
   "language": "python",
   "name": "python3"
  },
  "language_info": {
   "codemirror_mode": {
    "name": "ipython",
    "version": 2
   },
   "file_extension": ".py",
   "mimetype": "text/x-python",
   "name": "python",
   "nbconvert_exporter": "python",
   "pygments_lexer": "ipython2",
   "version": "2.7.6"
  }
 },
 "nbformat": 4,
 "nbformat_minor": 5
}
